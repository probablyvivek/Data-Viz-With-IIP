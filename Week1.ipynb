{
 "cells": [
  {
   "cell_type": "markdown",
   "metadata": {},
   "source": [
    "# Best State of India"
   ]
  },
  {
   "cell_type": "markdown",
   "metadata": {},
   "source": [
    "### The Six Traits\n",
    "\n",
    "1. **[Life Expectancy](https://m.rbi.org.in/Scripts/PublicationsView.aspx?id=20671)**\n",
    "   \n",
    "2. **[Literacy Rate](http://www.pincodeindia.net/literacy-rate.php)**\n",
    "\n",
    "3. **[Unemployment Rate](https://m.rbi.org.in/Scripts/PublicationsView.aspx?id=20673)**\n",
    "\n",
    "4. **[NSDP Per Capita](https://en.wikipedia.org/wiki/List_of_Indian_states_and_union_territories_by_GDP_per_capita#cite_note-:0-2)**\n",
    "\n",
    "5. **[Offences Against the State](https://ncrb.gov.in/en/crime-in-india-table-addtional-table-and-chapter-contents?field_date_value%5Bvalue%5D%5Byear%5D=2018&field_select_table_title_of_crim_value=All&items_per_page=All)**\n",
    "\n",
    "6. **[Per Capita Availability of Power](https://m.rbi.org.in/Scripts/PublicationsView.aspx?id=20781)**"
   ]
  },
  {
   "cell_type": "code",
   "execution_count": 2,
   "metadata": {},
   "outputs": [],
   "source": [
    "#import Libraries\n",
    "import pandas as pd\n",
    "import matplotlib.pyplot as plt"
   ]
  },
  {
   "cell_type": "code",
   "execution_count": null,
   "metadata": {},
   "outputs": [],
   "source": []
  }
 ],
 "metadata": {
  "kernelspec": {
   "display_name": "Python 3.8.8 ('base')",
   "language": "python",
   "name": "python3"
  },
  "language_info": {
   "codemirror_mode": {
    "name": "ipython",
    "version": 3
   },
   "file_extension": ".py",
   "mimetype": "text/x-python",
   "name": "python",
   "nbconvert_exporter": "python",
   "pygments_lexer": "ipython3",
   "version": "3.8.8"
  },
  "orig_nbformat": 4,
  "vscode": {
   "interpreter": {
    "hash": "40d3a090f54c6569ab1632332b64b2c03c39dcf918b08424e98f38b5ae0af88f"
   }
  }
 },
 "nbformat": 4,
 "nbformat_minor": 2
}
