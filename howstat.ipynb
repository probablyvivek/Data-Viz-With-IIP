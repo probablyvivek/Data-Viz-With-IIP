{
 "cells": [
  {
   "cell_type": "code",
   "execution_count": 1,
   "metadata": {},
   "outputs": [],
   "source": [
    "#Import Libraries\n",
    "import pandas as pd  \n",
    "from bs4 import BeautifulSoup as soup  \n",
    "from urllib.request import urlopen as ureq "
   ]
  },
  {
   "cell_type": "code",
   "execution_count": 2,
   "metadata": {},
   "outputs": [],
   "source": [
    "#URL to scrape\n",
    "url = \"http://www.howstat.com/cricket/Statistics/IPL/BattingMostInns.asp?q=4\""
   ]
  },
  {
   "cell_type": "code",
   "execution_count": 3,
   "metadata": {},
   "outputs": [],
   "source": [
    "# Get name from the URL to name the file later\n",
    "name = url.split('/')[-1].split('.')[0]"
   ]
  },
  {
   "cell_type": "code",
   "execution_count": 4,
   "metadata": {},
   "outputs": [],
   "source": [
    "# opening the url and grabbing the html\n",
    "page_html = ureq(url)\n",
    "\n",
    "# parsing the html\n",
    "soup = soup(page_html, \"html.parser\")\n",
    "\n",
    "# extracting the table\n",
    "table = soup.find(\"table\", {\"class\": \"TableLined\"})\n",
    "\n",
    "# extracting the table rows\n",
    "rows = table.find_all(\"tr\")\n",
    "\n",
    "# extracting the table columns\n",
    "data = []\n",
    "for row in rows:\n",
    "\tcols = row.find_all(\"td\")\n",
    "\tcols = [ele.text.strip() for ele in cols]\n",
    "\tif cols[0] == \"\":\n",
    "\t\tcols[0] = \" \"\n",
    "\tdata.append(cols)\n",
    "\n",
    "# converting the data into a dataframe\n",
    "df = pd.DataFrame(data)\n",
    "\n",
    "# Making first row as the column headers\n",
    "df.columns = df.iloc[0]\n",
    "\n",
    "# dropping the first row (this will work only for Batsman and Bowlers, for All Rounder the index needs to be changed)\n",
    "df.drop(df.index[0], inplace=True)\n",
    "\n",
    "# set first column as index based on first column header\n",
    "if cols[0] == \" \":\n",
    "\tdf.set_index(df.columns[0], inplace=True)\n",
    "else:\n",
    "\tdf.set_index(df.columns[1], inplace=False)\n",
    "\n",
    "# save df as JSON file\n",
    "df.to_json(name + \".json\", orient='records')\n",
    "\n",
    "# save df as CSV file\n",
    "df.to_csv(name + \".csv\")\n",
    "\n"
   ]
  },
  {
   "cell_type": "code",
   "execution_count": null,
   "metadata": {},
   "outputs": [],
   "source": []
  }
 ],
 "metadata": {
  "kernelspec": {
   "display_name": "Python 3.8.8 ('base')",
   "language": "python",
   "name": "python3"
  },
  "language_info": {
   "codemirror_mode": {
    "name": "ipython",
    "version": 3
   },
   "file_extension": ".py",
   "mimetype": "text/x-python",
   "name": "python",
   "nbconvert_exporter": "python",
   "pygments_lexer": "ipython3",
   "version": "3.8.8"
  },
  "orig_nbformat": 4,
  "vscode": {
   "interpreter": {
    "hash": "40d3a090f54c6569ab1632332b64b2c03c39dcf918b08424e98f38b5ae0af88f"
   }
  }
 },
 "nbformat": 4,
 "nbformat_minor": 2
}
